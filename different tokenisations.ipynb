{
 "cells": [
  {
   "cell_type": "code",
   "execution_count": 8,
   "metadata": {},
   "outputs": [],
   "source": [
    "text=\"\"\"Artificial intelligence (AI) is the ability of a computer program or a machine to think and learn. It is also a field of study which tries to make computers \"smart\". They work on their own without being encoded with commands. John McCarthy came up with the name \"Artificial Inteligencence\" in 1955.\n",
    "\n",
    "\"\"\""
   ]
  },
  {
   "cell_type": "code",
   "execution_count": 9,
   "metadata": {},
   "outputs": [
    {
     "data": {
      "text/plain": [
       "'Artificial intelligence (AI) is the ability of a computer program or a machine to think and learn. It is also a field of study which tries to make computers \"smart\". They work on their own without being encoded with commands. John McCarthy came up with the name \"Artificial Inteligencence\" in 1955.\\n\\n'"
      ]
     },
     "execution_count": 9,
     "metadata": {},
     "output_type": "execute_result"
    }
   ],
   "source": [
    "text"
   ]
  },
  {
   "cell_type": "code",
   "execution_count": 10,
   "metadata": {},
   "outputs": [],
   "source": [
    "#tokenizing using split keyword"
   ]
  },
  {
   "cell_type": "code",
   "execution_count": 11,
   "metadata": {
    "scrolled": true
   },
   "outputs": [],
   "source": [
    "text=text.split(\" \")"
   ]
  },
  {
   "cell_type": "code",
   "execution_count": 12,
   "metadata": {
    "scrolled": true
   },
   "outputs": [
    {
     "data": {
      "text/plain": [
       "['Artificial',\n",
       " 'intelligence',\n",
       " '(AI)',\n",
       " 'is',\n",
       " 'the',\n",
       " 'ability',\n",
       " 'of',\n",
       " 'a',\n",
       " 'computer',\n",
       " 'program',\n",
       " 'or',\n",
       " 'a',\n",
       " 'machine',\n",
       " 'to',\n",
       " 'think',\n",
       " 'and',\n",
       " 'learn.',\n",
       " 'It',\n",
       " 'is',\n",
       " 'also',\n",
       " 'a',\n",
       " 'field',\n",
       " 'of',\n",
       " 'study',\n",
       " 'which',\n",
       " 'tries',\n",
       " 'to',\n",
       " 'make',\n",
       " 'computers',\n",
       " '\"smart\".',\n",
       " 'They',\n",
       " 'work',\n",
       " 'on',\n",
       " 'their',\n",
       " 'own',\n",
       " 'without',\n",
       " 'being',\n",
       " 'encoded',\n",
       " 'with',\n",
       " 'commands.',\n",
       " 'John',\n",
       " 'McCarthy',\n",
       " 'came',\n",
       " 'up',\n",
       " 'with',\n",
       " 'the',\n",
       " 'name',\n",
       " '\"Artificial',\n",
       " 'Inteligencence\"',\n",
       " 'in',\n",
       " '1955.\\n\\n']"
      ]
     },
     "execution_count": 12,
     "metadata": {},
     "output_type": "execute_result"
    }
   ],
   "source": [
    "text"
   ]
  },
  {
   "cell_type": "code",
   "execution_count": 13,
   "metadata": {},
   "outputs": [],
   "source": [
    "#tokenizingh using re"
   ]
  },
  {
   "cell_type": "code",
   "execution_count": 14,
   "metadata": {},
   "outputs": [],
   "source": [
    "import re"
   ]
  },
  {
   "cell_type": "code",
   "execution_count": 15,
   "metadata": {},
   "outputs": [],
   "source": [
    "text1=\"\"\"Artificial intelligence (AI) is the ability of a computer program or a machine to think and learn. It is also a field of study which tries to make computers \"smart\". They work on their own without being encoded with commands. John McCarthy came up with the name \"Artificial Inteligencence\" in 1955.\n",
    "\n",
    "\"\"\""
   ]
  },
  {
   "cell_type": "code",
   "execution_count": 16,
   "metadata": {},
   "outputs": [],
   "source": [
    "tokens = re.findall(\"[\\w']+\", text1) "
   ]
  },
  {
   "cell_type": "code",
   "execution_count": 17,
   "metadata": {
    "scrolled": true
   },
   "outputs": [
    {
     "data": {
      "text/plain": [
       "['Artificial',\n",
       " 'intelligence',\n",
       " 'AI',\n",
       " 'is',\n",
       " 'the',\n",
       " 'ability',\n",
       " 'of',\n",
       " 'a',\n",
       " 'computer',\n",
       " 'program',\n",
       " 'or',\n",
       " 'a',\n",
       " 'machine',\n",
       " 'to',\n",
       " 'think',\n",
       " 'and',\n",
       " 'learn',\n",
       " 'It',\n",
       " 'is',\n",
       " 'also',\n",
       " 'a',\n",
       " 'field',\n",
       " 'of',\n",
       " 'study',\n",
       " 'which',\n",
       " 'tries',\n",
       " 'to',\n",
       " 'make',\n",
       " 'computers',\n",
       " 'smart',\n",
       " 'They',\n",
       " 'work',\n",
       " 'on',\n",
       " 'their',\n",
       " 'own',\n",
       " 'without',\n",
       " 'being',\n",
       " 'encoded',\n",
       " 'with',\n",
       " 'commands',\n",
       " 'John',\n",
       " 'McCarthy',\n",
       " 'came',\n",
       " 'up',\n",
       " 'with',\n",
       " 'the',\n",
       " 'name',\n",
       " 'Artificial',\n",
       " 'Inteligencence',\n",
       " 'in',\n",
       " '1955']"
      ]
     },
     "execution_count": 17,
     "metadata": {},
     "output_type": "execute_result"
    }
   ],
   "source": [
    "tokens"
   ]
  },
  {
   "cell_type": "code",
   "execution_count": 18,
   "metadata": {},
   "outputs": [],
   "source": [
    "text2=\"\"\"Artificial intelligence (AI) is the ability of a computer program or a machine to think and learn. It is also a field of study which tries to make computers \"smart\". They work on their own without being encoded with commands. John McCarthy came up with the name \"Artificial Inteligencence\" in 1955.\n",
    "\n",
    "\"\"\""
   ]
  },
  {
   "cell_type": "code",
   "execution_count": 19,
   "metadata": {},
   "outputs": [],
   "source": [
    "#using nltk package"
   ]
  },
  {
   "cell_type": "code",
   "execution_count": 20,
   "metadata": {},
   "outputs": [],
   "source": [
    "from nltk.tokenize import word_tokenize"
   ]
  },
  {
   "cell_type": "code",
   "execution_count": 21,
   "metadata": {},
   "outputs": [],
   "source": [
    "text2=word_tokenize(text2)"
   ]
  },
  {
   "cell_type": "code",
   "execution_count": 22,
   "metadata": {},
   "outputs": [
    {
     "data": {
      "text/plain": [
       "['Artificial',\n",
       " 'intelligence',\n",
       " '(',\n",
       " 'AI',\n",
       " ')',\n",
       " 'is',\n",
       " 'the',\n",
       " 'ability',\n",
       " 'of',\n",
       " 'a',\n",
       " 'computer',\n",
       " 'program',\n",
       " 'or',\n",
       " 'a',\n",
       " 'machine',\n",
       " 'to',\n",
       " 'think',\n",
       " 'and',\n",
       " 'learn',\n",
       " '.',\n",
       " 'It',\n",
       " 'is',\n",
       " 'also',\n",
       " 'a',\n",
       " 'field',\n",
       " 'of',\n",
       " 'study',\n",
       " 'which',\n",
       " 'tries',\n",
       " 'to',\n",
       " 'make',\n",
       " 'computers',\n",
       " '``',\n",
       " 'smart',\n",
       " \"''\",\n",
       " '.',\n",
       " 'They',\n",
       " 'work',\n",
       " 'on',\n",
       " 'their',\n",
       " 'own',\n",
       " 'without',\n",
       " 'being',\n",
       " 'encoded',\n",
       " 'with',\n",
       " 'commands',\n",
       " '.',\n",
       " 'John',\n",
       " 'McCarthy',\n",
       " 'came',\n",
       " 'up',\n",
       " 'with',\n",
       " 'the',\n",
       " 'name',\n",
       " '``',\n",
       " 'Artificial',\n",
       " 'Inteligencence',\n",
       " \"''\",\n",
       " 'in',\n",
       " '1955',\n",
       " '.']"
      ]
     },
     "execution_count": 22,
     "metadata": {},
     "output_type": "execute_result"
    }
   ],
   "source": [
    "text2"
   ]
  },
  {
   "cell_type": "code",
   "execution_count": 23,
   "metadata": {},
   "outputs": [],
   "source": [
    "#using spacy to tokenize"
   ]
  },
  {
   "cell_type": "code",
   "execution_count": 24,
   "metadata": {},
   "outputs": [],
   "source": [
    "from spacy.lang.en import English"
   ]
  },
  {
   "cell_type": "code",
   "execution_count": 25,
   "metadata": {},
   "outputs": [],
   "source": [
    "nlp=English()"
   ]
  },
  {
   "cell_type": "code",
   "execution_count": 26,
   "metadata": {},
   "outputs": [],
   "source": [
    "text3=\"\"\"Artificial intelligence (AI) is the ability of a computer program or a machine to think and learn. It is also a field of study which tries to make computers \"smart\". They work on their own without being encoded with commands. John McCarthy came up with the name \"Artificial Inteligencence\" in 1955.\n",
    "\n",
    "\"\"\""
   ]
  },
  {
   "cell_type": "code",
   "execution_count": 27,
   "metadata": {},
   "outputs": [],
   "source": [
    "doc=nlp(text3)"
   ]
  },
  {
   "cell_type": "code",
   "execution_count": 28,
   "metadata": {},
   "outputs": [
    {
     "data": {
      "text/plain": [
       "Artificial intelligence (AI) is the ability of a computer program or a machine to think and learn. It is also a field of study which tries to make computers \"smart\". They work on their own without being encoded with commands. John McCarthy came up with the name \"Artificial Inteligencence\" in 1955.\n"
      ]
     },
     "execution_count": 28,
     "metadata": {},
     "output_type": "execute_result"
    }
   ],
   "source": [
    "doc"
   ]
  },
  {
   "cell_type": "code",
   "execution_count": 29,
   "metadata": {},
   "outputs": [],
   "source": [
    "tokens=[]\n",
    "for token in doc:\n",
    "    tokens.append(token)"
   ]
  },
  {
   "cell_type": "code",
   "execution_count": 30,
   "metadata": {},
   "outputs": [
    {
     "data": {
      "text/plain": [
       "[Artificial,\n",
       " intelligence,\n",
       " (,\n",
       " AI,\n",
       " ),\n",
       " is,\n",
       " the,\n",
       " ability,\n",
       " of,\n",
       " a,\n",
       " computer,\n",
       " program,\n",
       " or,\n",
       " a,\n",
       " machine,\n",
       " to,\n",
       " think,\n",
       " and,\n",
       " learn,\n",
       " .,\n",
       " It,\n",
       " is,\n",
       " also,\n",
       " a,\n",
       " field,\n",
       " of,\n",
       " study,\n",
       " which,\n",
       " tries,\n",
       " to,\n",
       " make,\n",
       " computers,\n",
       " \",\n",
       " smart,\n",
       " \",\n",
       " .,\n",
       " They,\n",
       " work,\n",
       " on,\n",
       " their,\n",
       " own,\n",
       " without,\n",
       " being,\n",
       " encoded,\n",
       " with,\n",
       " commands,\n",
       " .,\n",
       " John,\n",
       " McCarthy,\n",
       " came,\n",
       " up,\n",
       " with,\n",
       " the,\n",
       " name,\n",
       " \",\n",
       " Artificial,\n",
       " Inteligencence,\n",
       " \",\n",
       " in,\n",
       " 1955,\n",
       " .,\n",
       " \n",
       " ]"
      ]
     },
     "execution_count": 30,
     "metadata": {},
     "output_type": "execute_result"
    }
   ],
   "source": [
    "tokens"
   ]
  },
  {
   "cell_type": "code",
   "execution_count": 31,
   "metadata": {},
   "outputs": [
    {
     "data": {
      "text/plain": [
       "'\\nsents_list = []\\nfor sent in doc.sents:\\n    sents_list.append(sent.text)\\n'"
      ]
     },
     "execution_count": 31,
     "metadata": {},
     "output_type": "execute_result"
    }
   ],
   "source": [
    "##for sentences --using spacy\n",
    "'''\n",
    "sents_list = []\n",
    "for sent in doc.sents:\n",
    "    sents_list.append(sent.text)\n",
    "'''"
   ]
  },
  {
   "cell_type": "code",
   "execution_count": 32,
   "metadata": {},
   "outputs": [],
   "source": [
    "#using keras"
   ]
  },
  {
   "cell_type": "code",
   "execution_count": 33,
   "metadata": {},
   "outputs": [
    {
     "name": "stderr",
     "output_type": "stream",
     "text": [
      "Using TensorFlow backend.\n"
     ]
    }
   ],
   "source": [
    "from keras.preprocessing.text import text_to_word_sequence"
   ]
  },
  {
   "cell_type": "code",
   "execution_count": 34,
   "metadata": {},
   "outputs": [],
   "source": [
    "text4=\"\"\"Artificial intelligence (AI) is the ability of a computer program or a machine to think and learn. It is also a field of study which tries to make computers \"smart\". They work on their own without being encoded with commands. John McCarthy came up with the name \"Artificial Inteligencence\" in 1955.\n",
    "\n",
    "\"\"\""
   ]
  },
  {
   "cell_type": "code",
   "execution_count": 35,
   "metadata": {},
   "outputs": [],
   "source": [
    "tokens=text_to_word_sequence(text4)"
   ]
  },
  {
   "cell_type": "code",
   "execution_count": 36,
   "metadata": {
    "scrolled": true
   },
   "outputs": [
    {
     "data": {
      "text/plain": [
       "['artificial',\n",
       " 'intelligence',\n",
       " 'ai',\n",
       " 'is',\n",
       " 'the',\n",
       " 'ability',\n",
       " 'of',\n",
       " 'a',\n",
       " 'computer',\n",
       " 'program',\n",
       " 'or',\n",
       " 'a',\n",
       " 'machine',\n",
       " 'to',\n",
       " 'think',\n",
       " 'and',\n",
       " 'learn',\n",
       " 'it',\n",
       " 'is',\n",
       " 'also',\n",
       " 'a',\n",
       " 'field',\n",
       " 'of',\n",
       " 'study',\n",
       " 'which',\n",
       " 'tries',\n",
       " 'to',\n",
       " 'make',\n",
       " 'computers',\n",
       " 'smart',\n",
       " 'they',\n",
       " 'work',\n",
       " 'on',\n",
       " 'their',\n",
       " 'own',\n",
       " 'without',\n",
       " 'being',\n",
       " 'encoded',\n",
       " 'with',\n",
       " 'commands',\n",
       " 'john',\n",
       " 'mccarthy',\n",
       " 'came',\n",
       " 'up',\n",
       " 'with',\n",
       " 'the',\n",
       " 'name',\n",
       " 'artificial',\n",
       " 'inteligencence',\n",
       " 'in',\n",
       " '1955']"
      ]
     },
     "execution_count": 36,
     "metadata": {},
     "output_type": "execute_result"
    }
   ],
   "source": [
    "tokens"
   ]
  },
  {
   "cell_type": "code",
   "execution_count": null,
   "metadata": {},
   "outputs": [],
   "source": []
  }
 ],
 "metadata": {
  "kernelspec": {
   "display_name": "Python 3",
   "language": "python",
   "name": "python3"
  },
  "language_info": {
   "codemirror_mode": {
    "name": "ipython",
    "version": 3
   },
   "file_extension": ".py",
   "mimetype": "text/x-python",
   "name": "python",
   "nbconvert_exporter": "python",
   "pygments_lexer": "ipython3",
   "version": "3.7.4"
  }
 },
 "nbformat": 4,
 "nbformat_minor": 2
}
