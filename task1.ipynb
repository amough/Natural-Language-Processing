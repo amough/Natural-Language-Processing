{
 "cells": [
  {
   "cell_type": "code",
   "execution_count": 1,
   "metadata": {},
   "outputs": [],
   "source": [
    "s=\"Shakespeare gave the world best of theatres\""
   ]
  },
  {
   "cell_type": "code",
   "execution_count": 2,
   "metadata": {},
   "outputs": [
    {
     "data": {
      "text/plain": [
       "'Shakespeare gave the world best of theatres'"
      ]
     },
     "execution_count": 2,
     "metadata": {},
     "output_type": "execute_result"
    }
   ],
   "source": [
    "s"
   ]
  },
  {
   "cell_type": "code",
   "execution_count": 3,
   "metadata": {},
   "outputs": [],
   "source": [
    "s2=\"This site contains what is probably the most accurate word frequency data for English. The first set of wordlists are based on the the 14 billion word iWeb corpus -- one of only three corpora from the Web that are 10 billion words in size or larger (and the only such corpus with carefully-corrected wordlists). The second set of wordlists are based on the Corpus of Contemporary American English (COCA) (now 560 million words in size), which is the largest genre-balanced corpus of English. In addition to word frequency data, you can also download n-grams and collocates from both iWeb and COCA.\""
   ]
  },
  {
   "cell_type": "code",
   "execution_count": 4,
   "metadata": {},
   "outputs": [
    {
     "data": {
      "text/plain": [
       "'This site contains what is probably the most accurate word frequency data for English. The first set of wordlists are based on the the 14 billion word iWeb corpus -- one of only three corpora from the Web that are 10 billion words in size or larger (and the only such corpus with carefully-corrected wordlists). The second set of wordlists are based on the Corpus of Contemporary American English (COCA) (now 560 million words in size), which is the largest genre-balanced corpus of English. In addition to word frequency data, you can also download n-grams and collocates from both iWeb and COCA.'"
      ]
     },
     "execution_count": 4,
     "metadata": {},
     "output_type": "execute_result"
    }
   ],
   "source": [
    "s2"
   ]
  },
  {
   "cell_type": "code",
   "execution_count": 5,
   "metadata": {},
   "outputs": [],
   "source": [
    "s2='''This site contains what is probably the most accurate word frequency data for English.\n",
    "The first set of wordlists are based on the the 14 billion word iWeb corpus -- one\n",
    "of only three corpora from the Web that are 10 billion words in size or larger (and the only such corpus with carefully-corrected wordlists). The second set of wordlists are based on the Corpus of Contemporary American English (COCA) (now 560 million words in size), which is the largest genre-balanced corpus of English. In addition to word frequency data, you can also download n-grams\n",
    "and collocates from both iWeb and COCA.'''"
   ]
  },
  {
   "cell_type": "code",
   "execution_count": 6,
   "metadata": {},
   "outputs": [
    {
     "data": {
      "text/plain": [
       "'This site contains what is probably the most accurate word frequency data for English.\\nThe first set of wordlists are based on the the 14 billion word iWeb corpus -- one\\nof only three corpora from the Web that are 10 billion words in size or larger (and the only such corpus with carefully-corrected wordlists). The second set of wordlists are based on the Corpus of Contemporary American English (COCA) (now 560 million words in size), which is the largest genre-balanced corpus of English. In addition to word frequency data, you can also download n-grams\\nand collocates from both iWeb and COCA.'"
      ]
     },
     "execution_count": 6,
     "metadata": {},
     "output_type": "execute_result"
    }
   ],
   "source": [
    "s2"
   ]
  },
  {
   "cell_type": "code",
   "execution_count": 7,
   "metadata": {},
   "outputs": [],
   "source": [
    "tel=\"మీరు నాకు ఎంత నేర్పుతారు\""
   ]
  },
  {
   "cell_type": "code",
   "execution_count": 8,
   "metadata": {},
   "outputs": [
    {
     "data": {
      "text/plain": [
       "'మీరు నాకు ఎంత నేర్పుతారు'"
      ]
     },
     "execution_count": 8,
     "metadata": {},
     "output_type": "execute_result"
    }
   ],
   "source": [
    "tel"
   ]
  },
  {
   "cell_type": "code",
   "execution_count": null,
   "metadata": {},
   "outputs": [],
   "source": []
  }
 ],
 "metadata": {
  "kernelspec": {
   "display_name": "Python 3",
   "language": "python",
   "name": "python3"
  },
  "language_info": {
   "codemirror_mode": {
    "name": "ipython",
    "version": 3
   },
   "file_extension": ".py",
   "mimetype": "text/x-python",
   "name": "python",
   "nbconvert_exporter": "python",
   "pygments_lexer": "ipython3",
   "version": "3.7.4"
  }
 },
 "nbformat": 4,
 "nbformat_minor": 2
}
