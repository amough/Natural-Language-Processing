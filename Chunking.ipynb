{
 "cells": [
  {
   "cell_type": "code",
   "execution_count": 1,
   "metadata": {},
   "outputs": [],
   "source": [
    "import nltk\n",
    "str1=\"Artificial Intelligence is the future of mankind\"\n",
    "str2=\"Sky is blue\""
   ]
  },
  {
   "cell_type": "code",
   "execution_count": 2,
   "metadata": {},
   "outputs": [],
   "source": [
    "NounGrammar = ('''\n",
    "    NP: {<DT>?<JJ>*<NN>} # NP\n",
    "    ''')\n",
    "VerbGrammar = ('''\n",
    "    Ph: {<VB*>+<DT>?<NN*>+} # VB\n",
    "''')"
   ]
  },
  {
   "cell_type": "code",
   "execution_count": 3,
   "metadata": {},
   "outputs": [
    {
     "name": "stdout",
     "output_type": "stream",
     "text": [
      "str1\n",
      "[('Artificial', 'JJ'), ('Intelligence', 'NNP'), ('is', 'VBZ'), ('the', 'DT'), ('future', 'NN'), ('of', 'IN'), ('mankind', 'NN')]\n",
      "str2\n",
      "[('Sky', 'NNP'), ('is', 'VBZ'), ('blue', 'JJ')]\n"
     ]
    }
   ],
   "source": [
    "chunkParser = nltk.RegexpParser(NounGrammar)\n",
    "chunkParser2 = nltk.RegexpParser(VerbGrammar)\n",
    "tagged2 = nltk.pos_tag(nltk.word_tokenize(str2))\n",
    "tagged1 = nltk.pos_tag(nltk.word_tokenize(str1))\n",
    "print(\"str1\")\n",
    "print(tagged1)\n",
    "print(\"str2\")\n",
    "print(tagged2)"
   ]
  },
  {
   "cell_type": "code",
   "execution_count": 4,
   "metadata": {},
   "outputs": [
    {
     "name": "stdout",
     "output_type": "stream",
     "text": [
      "NOUN PHRASE CHUNKING\n",
      "(S\n",
      "  Artificial/JJ\n",
      "  Intelligence/NNP\n",
      "  is/VBZ\n",
      "  (NP the/DT future/NN)\n",
      "  of/IN\n",
      "  (NP mankind/NN))\n",
      "(NP the/DT future/NN)\n",
      "(NP mankind/NN)\n",
      "(S Sky/NNP is/VBZ blue/JJ)\n",
      "------------------------\n",
      "VERB PHRASE CHUNKING\n",
      "(S\n",
      "  Artificial/JJ\n",
      "  Intelligence/NNP\n",
      "  is/VBZ\n",
      "  (NP the/DT future/NN)\n",
      "  of/IN\n",
      "  (NP mankind/NN))\n",
      "(NP the/DT future/NN)\n",
      "(NP mankind/NN)\n",
      "(S Sky/NNP is/VBZ blue/JJ)\n"
     ]
    }
   ],
   "source": [
    "print(\"NOUN PHRASE CHUNKING\")\n",
    "tree1 = chunkParser.parse(tagged1)\n",
    "for subtree in tree1.subtrees():\n",
    "    print(subtree)\n",
    "\n",
    "tree2 = chunkParser.parse(tagged2)\n",
    "for subtree in tree2.subtrees():\n",
    "    print(subtree)\n",
    "    \n",
    "print(\"------------------------\")\n",
    "print(\"VERB PHRASE CHUNKING\")\n",
    "Verbtree1 = chunkParser2.parse(tagged1)\n",
    "for subtree in tree1.subtrees():\n",
    "    print(subtree)\n",
    "\n",
    "Verbtree2 = chunkParser2.parse(tagged2)\n",
    "for subtree in tree2.subtrees():\n",
    "    print(subtree)"
   ]
  },
  {
   "cell_type": "code",
   "execution_count": null,
   "metadata": {},
   "outputs": [],
   "source": [
    "tree1.draw()\n",
    "tree2.draw()\n",
    "Verbtree1.draw()\n",
    "Verbtree2.draw()"
   ]
  },
  {
   "cell_type": "code",
   "execution_count": 12,
   "metadata": {},
   "outputs": [],
   "source": []
  },
  {
   "cell_type": "code",
   "execution_count": null,
   "metadata": {},
   "outputs": [],
   "source": []
  }
 ],
 "metadata": {
  "kernelspec": {
   "display_name": "Python 3",
   "language": "python",
   "name": "python3"
  },
  "language_info": {
   "codemirror_mode": {
    "name": "ipython",
    "version": 3
   },
   "file_extension": ".py",
   "mimetype": "text/x-python",
   "name": "python",
   "nbconvert_exporter": "python",
   "pygments_lexer": "ipython3",
   "version": "3.7.4"
  }
 },
 "nbformat": 4,
 "nbformat_minor": 2
}
