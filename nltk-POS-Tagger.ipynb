{
 "cells": [
  {
   "cell_type": "code",
   "execution_count": 1,
   "metadata": {},
   "outputs": [],
   "source": [
    "str=\"The quick brown fox jumps over the lazy dog. Obama and Putin met the previous week. At least 12 people were killed in the battle last week. I will go home and come back tomorrow.\""
   ]
  },
  {
   "cell_type": "code",
   "execution_count": 2,
   "metadata": {},
   "outputs": [],
   "source": [
    "from nltk.tokenize import word_tokenize\n",
    "from nltk.tag import pos_tag"
   ]
  },
  {
   "cell_type": "code",
   "execution_count": 3,
   "metadata": {},
   "outputs": [],
   "source": [
    "data=word_tokenize(str)"
   ]
  },
  {
   "cell_type": "code",
   "execution_count": 4,
   "metadata": {},
   "outputs": [
    {
     "data": {
      "text/plain": [
       "['The',\n",
       " 'quick',\n",
       " 'brown',\n",
       " 'fox',\n",
       " 'jumps',\n",
       " 'over',\n",
       " 'the',\n",
       " 'lazy',\n",
       " 'dog',\n",
       " '.',\n",
       " 'Obama',\n",
       " 'and',\n",
       " 'Putin',\n",
       " 'met',\n",
       " 'the',\n",
       " 'previous',\n",
       " 'week',\n",
       " '.',\n",
       " 'At',\n",
       " 'least',\n",
       " '12',\n",
       " 'people',\n",
       " 'were',\n",
       " 'killed',\n",
       " 'in',\n",
       " 'the',\n",
       " 'battle',\n",
       " 'last',\n",
       " 'week',\n",
       " '.',\n",
       " 'I',\n",
       " 'will',\n",
       " 'go',\n",
       " 'home',\n",
       " 'and',\n",
       " 'come',\n",
       " 'back',\n",
       " 'tomorrow',\n",
       " '.']"
      ]
     },
     "execution_count": 4,
     "metadata": {},
     "output_type": "execute_result"
    }
   ],
   "source": [
    "data"
   ]
  },
  {
   "cell_type": "code",
   "execution_count": 5,
   "metadata": {},
   "outputs": [],
   "source": [
    "posTag= pos_tag(data)"
   ]
  },
  {
   "cell_type": "code",
   "execution_count": 6,
   "metadata": {},
   "outputs": [
    {
     "data": {
      "text/plain": [
       "[('The', 'DT'),\n",
       " ('quick', 'JJ'),\n",
       " ('brown', 'NN'),\n",
       " ('fox', 'NN'),\n",
       " ('jumps', 'VBZ'),\n",
       " ('over', 'IN'),\n",
       " ('the', 'DT'),\n",
       " ('lazy', 'JJ'),\n",
       " ('dog', 'NN'),\n",
       " ('.', '.'),\n",
       " ('Obama', 'NNP'),\n",
       " ('and', 'CC'),\n",
       " ('Putin', 'NNP'),\n",
       " ('met', 'VBD'),\n",
       " ('the', 'DT'),\n",
       " ('previous', 'JJ'),\n",
       " ('week', 'NN'),\n",
       " ('.', '.'),\n",
       " ('At', 'IN'),\n",
       " ('least', 'JJS'),\n",
       " ('12', 'CD'),\n",
       " ('people', 'NNS'),\n",
       " ('were', 'VBD'),\n",
       " ('killed', 'VBN'),\n",
       " ('in', 'IN'),\n",
       " ('the', 'DT'),\n",
       " ('battle', 'NN'),\n",
       " ('last', 'JJ'),\n",
       " ('week', 'NN'),\n",
       " ('.', '.'),\n",
       " ('I', 'PRP'),\n",
       " ('will', 'MD'),\n",
       " ('go', 'VB'),\n",
       " ('home', 'NN'),\n",
       " ('and', 'CC'),\n",
       " ('come', 'VB'),\n",
       " ('back', 'RB'),\n",
       " ('tomorrow', 'NN'),\n",
       " ('.', '.')]"
      ]
     },
     "execution_count": 6,
     "metadata": {},
     "output_type": "execute_result"
    }
   ],
   "source": [
    "posTag"
   ]
  },
  {
   "cell_type": "code",
   "execution_count": null,
   "metadata": {},
   "outputs": [],
   "source": []
  }
 ],
 "metadata": {
  "kernelspec": {
   "display_name": "Python 3",
   "language": "python",
   "name": "python3"
  },
  "language_info": {
   "codemirror_mode": {
    "name": "ipython",
    "version": 3
   },
   "file_extension": ".py",
   "mimetype": "text/x-python",
   "name": "python",
   "nbconvert_exporter": "python",
   "pygments_lexer": "ipython3",
   "version": "3.7.4"
  }
 },
 "nbformat": 4,
 "nbformat_minor": 2
}
