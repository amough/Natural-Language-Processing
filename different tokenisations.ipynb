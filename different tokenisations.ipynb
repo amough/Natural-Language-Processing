{
 "cells": [
  {
   "cell_type": "code",
   "execution_count": 1,
   "metadata": {},
   "outputs": [],
   "source": [
    "text=\"\"\"William Shakespeare (bapt. 26 April 1564 – 23 April 1616)[a] was an English poet, playwright, and actor, widely regarded as the greatest writer in the English language and the world's greatest dramatist.[2][3][4] He is often called England's national poet and the \"Bard of Avon\" (or simply \"the Bard\").[5][b] His extant works, including collaborations, consist of some 39 plays,[c] 154 sonnets, two long narrative poems, and a few other verses, some of uncertain authorship. His plays have been translated into every major living language and are performed more often than those of any other playwright.[7]\"\"\""
   ]
  },
  {
   "cell_type": "code",
   "execution_count": 2,
   "metadata": {},
   "outputs": [
    {
     "data": {
      "text/plain": [
       "'William Shakespeare (bapt. 26 April 1564 – 23 April 1616)[a] was an English poet, playwright, and actor, widely regarded as the greatest writer in the English language and the world\\'s greatest dramatist.[2][3][4] He is often called England\\'s national poet and the \"Bard of Avon\" (or simply \"the Bard\").[5][b] His extant works, including collaborations, consist of some 39 plays,[c] 154 sonnets, two long narrative poems, and a few other verses, some of uncertain authorship. His plays have been translated into every major living language and are performed more often than those of any other playwright.[7]'"
      ]
     },
     "execution_count": 2,
     "metadata": {},
     "output_type": "execute_result"
    }
   ],
   "source": [
    "text"
   ]
  },
  {
   "cell_type": "code",
   "execution_count": 5,
   "metadata": {
    "scrolled": true
   },
   "outputs": [],
   "source": [
    "text=text.split(\" \")#tokenizing using split keyword"
   ]
  },
  {
   "cell_type": "code",
   "execution_count": 6,
   "metadata": {
    "scrolled": true
   },
   "outputs": [
    {
     "data": {
      "text/plain": [
       "['William',\n",
       " 'Shakespeare',\n",
       " '(bapt.',\n",
       " '26',\n",
       " 'April',\n",
       " '1564',\n",
       " '–',\n",
       " '23',\n",
       " 'April',\n",
       " '1616)[a]',\n",
       " 'was',\n",
       " 'an',\n",
       " 'English',\n",
       " 'poet,',\n",
       " 'playwright,',\n",
       " 'and',\n",
       " 'actor,',\n",
       " 'widely',\n",
       " 'regarded',\n",
       " 'as',\n",
       " 'the',\n",
       " 'greatest',\n",
       " 'writer',\n",
       " 'in',\n",
       " 'the',\n",
       " 'English',\n",
       " 'language',\n",
       " 'and',\n",
       " 'the',\n",
       " \"world's\",\n",
       " 'greatest',\n",
       " 'dramatist.[2][3][4]',\n",
       " 'He',\n",
       " 'is',\n",
       " 'often',\n",
       " 'called',\n",
       " \"England's\",\n",
       " 'national',\n",
       " 'poet',\n",
       " 'and',\n",
       " 'the',\n",
       " '\"Bard',\n",
       " 'of',\n",
       " 'Avon\"',\n",
       " '(or',\n",
       " 'simply',\n",
       " '\"the',\n",
       " 'Bard\").[5][b]',\n",
       " 'His',\n",
       " 'extant',\n",
       " 'works,',\n",
       " 'including',\n",
       " 'collaborations,',\n",
       " 'consist',\n",
       " 'of',\n",
       " 'some',\n",
       " '39',\n",
       " 'plays,[c]',\n",
       " '154',\n",
       " 'sonnets,',\n",
       " 'two',\n",
       " 'long',\n",
       " 'narrative',\n",
       " 'poems,',\n",
       " 'and',\n",
       " 'a',\n",
       " 'few',\n",
       " 'other',\n",
       " 'verses,',\n",
       " 'some',\n",
       " 'of',\n",
       " 'uncertain',\n",
       " 'authorship.',\n",
       " 'His',\n",
       " 'plays',\n",
       " 'have',\n",
       " 'been',\n",
       " 'translated',\n",
       " 'into',\n",
       " 'every',\n",
       " 'major',\n",
       " 'living',\n",
       " 'language',\n",
       " 'and',\n",
       " 'are',\n",
       " 'performed',\n",
       " 'more',\n",
       " 'often',\n",
       " 'than',\n",
       " 'those',\n",
       " 'of',\n",
       " 'any',\n",
       " 'other',\n",
       " 'playwright.[7]']"
      ]
     },
     "execution_count": 6,
     "metadata": {},
     "output_type": "execute_result"
    }
   ],
   "source": [
    "text"
   ]
  },
  {
   "cell_type": "code",
   "execution_count": 7,
   "metadata": {},
   "outputs": [],
   "source": [
    "#tokenizingh using re"
   ]
  },
  {
   "cell_type": "code",
   "execution_count": 8,
   "metadata": {},
   "outputs": [],
   "source": [
    "import re"
   ]
  },
  {
   "cell_type": "code",
   "execution_count": 9,
   "metadata": {},
   "outputs": [],
   "source": [
    "text1=\"\"\"William Shakespeare (bapt. 26 April 1564 – 23 April 1616)[a] was an English poet, playwright, and actor, widely regarded as the greatest writer in the English language and the world's greatest dramatist.[2][3][4] He is often called England's national poet and the \"Bard of Avon\" (or simply \"the Bard\").[5][b] His extant works, including collaborations, consist of some 39 plays,[c] 154 sonnets, two long narrative poems, and a few other verses, some of uncertain authorship. His plays have been translated into every major living language and are performed more often than those of any other playwright.[7]\"\"\""
   ]
  },
  {
   "cell_type": "code",
   "execution_count": 10,
   "metadata": {},
   "outputs": [],
   "source": [
    "tokens = re.findall(\"[\\w']+\", text1)\n",
    "#sentences = re.compile('[.!?] ').split(text1)\n",
    "#split using punctuations and ..split the sentences "
   ]
  },
  {
   "cell_type": "code",
   "execution_count": 11,
   "metadata": {
    "scrolled": true
   },
   "outputs": [
    {
     "data": {
      "text/plain": [
       "['William',\n",
       " 'Shakespeare',\n",
       " 'bapt',\n",
       " '26',\n",
       " 'April',\n",
       " '1564',\n",
       " '23',\n",
       " 'April',\n",
       " '1616',\n",
       " 'a',\n",
       " 'was',\n",
       " 'an',\n",
       " 'English',\n",
       " 'poet',\n",
       " 'playwright',\n",
       " 'and',\n",
       " 'actor',\n",
       " 'widely',\n",
       " 'regarded',\n",
       " 'as',\n",
       " 'the',\n",
       " 'greatest',\n",
       " 'writer',\n",
       " 'in',\n",
       " 'the',\n",
       " 'English',\n",
       " 'language',\n",
       " 'and',\n",
       " 'the',\n",
       " \"world's\",\n",
       " 'greatest',\n",
       " 'dramatist',\n",
       " '2',\n",
       " '3',\n",
       " '4',\n",
       " 'He',\n",
       " 'is',\n",
       " 'often',\n",
       " 'called',\n",
       " \"England's\",\n",
       " 'national',\n",
       " 'poet',\n",
       " 'and',\n",
       " 'the',\n",
       " 'Bard',\n",
       " 'of',\n",
       " 'Avon',\n",
       " 'or',\n",
       " 'simply',\n",
       " 'the',\n",
       " 'Bard',\n",
       " '5',\n",
       " 'b',\n",
       " 'His',\n",
       " 'extant',\n",
       " 'works',\n",
       " 'including',\n",
       " 'collaborations',\n",
       " 'consist',\n",
       " 'of',\n",
       " 'some',\n",
       " '39',\n",
       " 'plays',\n",
       " 'c',\n",
       " '154',\n",
       " 'sonnets',\n",
       " 'two',\n",
       " 'long',\n",
       " 'narrative',\n",
       " 'poems',\n",
       " 'and',\n",
       " 'a',\n",
       " 'few',\n",
       " 'other',\n",
       " 'verses',\n",
       " 'some',\n",
       " 'of',\n",
       " 'uncertain',\n",
       " 'authorship',\n",
       " 'His',\n",
       " 'plays',\n",
       " 'have',\n",
       " 'been',\n",
       " 'translated',\n",
       " 'into',\n",
       " 'every',\n",
       " 'major',\n",
       " 'living',\n",
       " 'language',\n",
       " 'and',\n",
       " 'are',\n",
       " 'performed',\n",
       " 'more',\n",
       " 'often',\n",
       " 'than',\n",
       " 'those',\n",
       " 'of',\n",
       " 'any',\n",
       " 'other',\n",
       " 'playwright',\n",
       " '7']"
      ]
     },
     "execution_count": 11,
     "metadata": {},
     "output_type": "execute_result"
    }
   ],
   "source": [
    "tokens"
   ]
  },
  {
   "cell_type": "code",
   "execution_count": 13,
   "metadata": {},
   "outputs": [],
   "source": [
    "text2=\"\"\"William Shakespeare (bapt. 26 April 1564 – 23 April 1616)[a] was an English poet, playwright, and actor, widely regarded as the greatest writer in the English language and the world's greatest dramatist.[2][3][4] He is often called England's national poet and the \"Bard of Avon\" (or simply \"the Bard\").[5][b] His extant works, including collaborations, consist of some 39 plays,[c] 154 sonnets, two long narrative poems, and a few other verses, some of uncertain authorship. His plays have been translated into every major living language and are performed more often than those of any other playwright.[7]\"\"\""
   ]
  },
  {
   "cell_type": "code",
   "execution_count": 14,
   "metadata": {},
   "outputs": [],
   "source": [
    "#using nltk package"
   ]
  },
  {
   "cell_type": "code",
   "execution_count": 15,
   "metadata": {},
   "outputs": [],
   "source": [
    "from nltk.tokenize import word_tokenize"
   ]
  },
  {
   "cell_type": "code",
   "execution_count": 22,
   "metadata": {},
   "outputs": [],
   "source": [
    "text2=word_tokenize(text2)"
   ]
  },
  {
   "cell_type": "code",
   "execution_count": 23,
   "metadata": {},
   "outputs": [
    {
     "data": {
      "text/plain": [
       "['William',\n",
       " 'Shakespeare',\n",
       " '(',\n",
       " 'bapt',\n",
       " '.',\n",
       " '26',\n",
       " 'April',\n",
       " '1564',\n",
       " '–',\n",
       " '23',\n",
       " 'April',\n",
       " '1616',\n",
       " ')',\n",
       " '[',\n",
       " 'a',\n",
       " ']',\n",
       " 'was',\n",
       " 'an',\n",
       " 'English',\n",
       " 'poet',\n",
       " ',',\n",
       " 'playwright',\n",
       " ',',\n",
       " 'and',\n",
       " 'actor',\n",
       " ',',\n",
       " 'widely',\n",
       " 'regarded',\n",
       " 'as',\n",
       " 'the',\n",
       " 'greatest',\n",
       " 'writer',\n",
       " 'in',\n",
       " 'the',\n",
       " 'English',\n",
       " 'language',\n",
       " 'and',\n",
       " 'the',\n",
       " 'world',\n",
       " \"'s\",\n",
       " 'greatest',\n",
       " 'dramatist',\n",
       " '.',\n",
       " '[',\n",
       " '2',\n",
       " ']',\n",
       " '[',\n",
       " '3',\n",
       " ']',\n",
       " '[',\n",
       " '4',\n",
       " ']',\n",
       " 'He',\n",
       " 'is',\n",
       " 'often',\n",
       " 'called',\n",
       " 'England',\n",
       " \"'s\",\n",
       " 'national',\n",
       " 'poet',\n",
       " 'and',\n",
       " 'the',\n",
       " '``',\n",
       " 'Bard',\n",
       " 'of',\n",
       " 'Avon',\n",
       " \"''\",\n",
       " '(',\n",
       " 'or',\n",
       " 'simply',\n",
       " '``',\n",
       " 'the',\n",
       " 'Bard',\n",
       " \"''\",\n",
       " ')',\n",
       " '.',\n",
       " '[',\n",
       " '5',\n",
       " ']',\n",
       " '[',\n",
       " 'b',\n",
       " ']',\n",
       " 'His',\n",
       " 'extant',\n",
       " 'works',\n",
       " ',',\n",
       " 'including',\n",
       " 'collaborations',\n",
       " ',',\n",
       " 'consist',\n",
       " 'of',\n",
       " 'some',\n",
       " '39',\n",
       " 'plays',\n",
       " ',',\n",
       " '[',\n",
       " 'c',\n",
       " ']',\n",
       " '154',\n",
       " 'sonnets',\n",
       " ',',\n",
       " 'two',\n",
       " 'long',\n",
       " 'narrative',\n",
       " 'poems',\n",
       " ',',\n",
       " 'and',\n",
       " 'a',\n",
       " 'few',\n",
       " 'other',\n",
       " 'verses',\n",
       " ',',\n",
       " 'some',\n",
       " 'of',\n",
       " 'uncertain',\n",
       " 'authorship',\n",
       " '.',\n",
       " 'His',\n",
       " 'plays',\n",
       " 'have',\n",
       " 'been',\n",
       " 'translated',\n",
       " 'into',\n",
       " 'every',\n",
       " 'major',\n",
       " 'living',\n",
       " 'language',\n",
       " 'and',\n",
       " 'are',\n",
       " 'performed',\n",
       " 'more',\n",
       " 'often',\n",
       " 'than',\n",
       " 'those',\n",
       " 'of',\n",
       " 'any',\n",
       " 'other',\n",
       " 'playwright',\n",
       " '.',\n",
       " '[',\n",
       " '7',\n",
       " ']']"
      ]
     },
     "execution_count": 23,
     "metadata": {},
     "output_type": "execute_result"
    }
   ],
   "source": [
    "text2"
   ]
  },
  {
   "cell_type": "code",
   "execution_count": 24,
   "metadata": {},
   "outputs": [],
   "source": [
    "#using spacy to tokenize"
   ]
  },
  {
   "cell_type": "code",
   "execution_count": 25,
   "metadata": {},
   "outputs": [],
   "source": [
    "from spacy.lang.en import English"
   ]
  },
  {
   "cell_type": "code",
   "execution_count": 26,
   "metadata": {},
   "outputs": [],
   "source": [
    "nlp=English()"
   ]
  },
  {
   "cell_type": "code",
   "execution_count": 27,
   "metadata": {},
   "outputs": [],
   "source": [
    "text3=\"\"\"William Shakespeare (bapt. 26 April 1564 – 23 April 1616)[a] was an English poet, playwright, and actor, widely regarded as the greatest writer in the English language and the world's greatest dramatist.[2][3][4] He is often called England's national poet and the \"Bard of Avon\" (or simply \"the Bard\").[5][b] His extant works, including collaborations, consist of some 39 plays,[c] 154 sonnets, two long narrative poems, and a few other verses, some of uncertain authorship. His plays have been translated into every major living language and are performed more often than those of any other playwright.[7]\"\"\""
   ]
  },
  {
   "cell_type": "code",
   "execution_count": 28,
   "metadata": {},
   "outputs": [],
   "source": [
    "doc=nlp(text3)"
   ]
  },
  {
   "cell_type": "code",
   "execution_count": 29,
   "metadata": {},
   "outputs": [
    {
     "data": {
      "text/plain": [
       "William Shakespeare (bapt. 26 April 1564 – 23 April 1616)[a] was an English poet, playwright, and actor, widely regarded as the greatest writer in the English language and the world's greatest dramatist.[2][3][4] He is often called England's national poet and the \"Bard of Avon\" (or simply \"the Bard\").[5][b] His extant works, including collaborations, consist of some 39 plays,[c] 154 sonnets, two long narrative poems, and a few other verses, some of uncertain authorship. His plays have been translated into every major living language and are performed more often than those of any other playwright.[7]"
      ]
     },
     "execution_count": 29,
     "metadata": {},
     "output_type": "execute_result"
    }
   ],
   "source": [
    "doc"
   ]
  },
  {
   "cell_type": "code",
   "execution_count": 30,
   "metadata": {},
   "outputs": [],
   "source": [
    "tokens=[]\n",
    "for token in doc:\n",
    "    tokens.append(token)"
   ]
  },
  {
   "cell_type": "code",
   "execution_count": 31,
   "metadata": {},
   "outputs": [
    {
     "data": {
      "text/plain": [
       "[William,\n",
       " Shakespeare,\n",
       " (,\n",
       " bapt,\n",
       " .,\n",
       " 26,\n",
       " April,\n",
       " 1564,\n",
       " –,\n",
       " 23,\n",
       " April,\n",
       " 1616)[a,\n",
       " ],\n",
       " was,\n",
       " an,\n",
       " English,\n",
       " poet,\n",
       " ,,\n",
       " playwright,\n",
       " ,,\n",
       " and,\n",
       " actor,\n",
       " ,,\n",
       " widely,\n",
       " regarded,\n",
       " as,\n",
       " the,\n",
       " greatest,\n",
       " writer,\n",
       " in,\n",
       " the,\n",
       " English,\n",
       " language,\n",
       " and,\n",
       " the,\n",
       " world,\n",
       " 's,\n",
       " greatest,\n",
       " dramatist.[2][3][4,\n",
       " ],\n",
       " He,\n",
       " is,\n",
       " often,\n",
       " called,\n",
       " England,\n",
       " 's,\n",
       " national,\n",
       " poet,\n",
       " and,\n",
       " the,\n",
       " \",\n",
       " Bard,\n",
       " of,\n",
       " Avon,\n",
       " \",\n",
       " (,\n",
       " or,\n",
       " simply,\n",
       " \",\n",
       " the,\n",
       " Bard\").[5][b,\n",
       " ],\n",
       " His,\n",
       " extant,\n",
       " works,\n",
       " ,,\n",
       " including,\n",
       " collaborations,\n",
       " ,,\n",
       " consist,\n",
       " of,\n",
       " some,\n",
       " 39,\n",
       " plays,[c,\n",
       " ],\n",
       " 154,\n",
       " sonnets,\n",
       " ,,\n",
       " two,\n",
       " long,\n",
       " narrative,\n",
       " poems,\n",
       " ,,\n",
       " and,\n",
       " a,\n",
       " few,\n",
       " other,\n",
       " verses,\n",
       " ,,\n",
       " some,\n",
       " of,\n",
       " uncertain,\n",
       " authorship,\n",
       " .,\n",
       " His,\n",
       " plays,\n",
       " have,\n",
       " been,\n",
       " translated,\n",
       " into,\n",
       " every,\n",
       " major,\n",
       " living,\n",
       " language,\n",
       " and,\n",
       " are,\n",
       " performed,\n",
       " more,\n",
       " often,\n",
       " than,\n",
       " those,\n",
       " of,\n",
       " any,\n",
       " other,\n",
       " playwright.[7,\n",
       " ]]"
      ]
     },
     "execution_count": 31,
     "metadata": {},
     "output_type": "execute_result"
    }
   ],
   "source": [
    "tokens"
   ]
  },
  {
   "cell_type": "code",
   "execution_count": 32,
   "metadata": {},
   "outputs": [],
   "source": [
    "##for sentences --using spacy\n",
    "'''\n",
    "sents_list = []\n",
    "for sent in doc.sents:\n",
    "    sents_list.append(sent.text)\n",
    "'''"
   ]
  },
  {
   "cell_type": "code",
   "execution_count": 33,
   "metadata": {},
   "outputs": [],
   "source": [
    "#using keras"
   ]
  },
  {
   "cell_type": "code",
   "execution_count": 1,
   "metadata": {},
   "outputs": [
    {
     "name": "stderr",
     "output_type": "stream",
     "text": [
      "Using TensorFlow backend.\n",
      "C:\\Users\\Abhay\\Anaconda3\\lib\\site-packages\\tensorflow\\python\\framework\\dtypes.py:516: FutureWarning: Passing (type, 1) or '1type' as a synonym of type is deprecated; in a future version of numpy, it will be understood as (type, (1,)) / '(1,)type'.\n",
      "  _np_qint8 = np.dtype([(\"qint8\", np.int8, 1)])\n",
      "C:\\Users\\Abhay\\Anaconda3\\lib\\site-packages\\tensorflow\\python\\framework\\dtypes.py:517: FutureWarning: Passing (type, 1) or '1type' as a synonym of type is deprecated; in a future version of numpy, it will be understood as (type, (1,)) / '(1,)type'.\n",
      "  _np_quint8 = np.dtype([(\"quint8\", np.uint8, 1)])\n",
      "C:\\Users\\Abhay\\Anaconda3\\lib\\site-packages\\tensorflow\\python\\framework\\dtypes.py:518: FutureWarning: Passing (type, 1) or '1type' as a synonym of type is deprecated; in a future version of numpy, it will be understood as (type, (1,)) / '(1,)type'.\n",
      "  _np_qint16 = np.dtype([(\"qint16\", np.int16, 1)])\n",
      "C:\\Users\\Abhay\\Anaconda3\\lib\\site-packages\\tensorflow\\python\\framework\\dtypes.py:519: FutureWarning: Passing (type, 1) or '1type' as a synonym of type is deprecated; in a future version of numpy, it will be understood as (type, (1,)) / '(1,)type'.\n",
      "  _np_quint16 = np.dtype([(\"quint16\", np.uint16, 1)])\n",
      "C:\\Users\\Abhay\\Anaconda3\\lib\\site-packages\\tensorflow\\python\\framework\\dtypes.py:520: FutureWarning: Passing (type, 1) or '1type' as a synonym of type is deprecated; in a future version of numpy, it will be understood as (type, (1,)) / '(1,)type'.\n",
      "  _np_qint32 = np.dtype([(\"qint32\", np.int32, 1)])\n",
      "C:\\Users\\Abhay\\Anaconda3\\lib\\site-packages\\tensorflow\\python\\framework\\dtypes.py:525: FutureWarning: Passing (type, 1) or '1type' as a synonym of type is deprecated; in a future version of numpy, it will be understood as (type, (1,)) / '(1,)type'.\n",
      "  np_resource = np.dtype([(\"resource\", np.ubyte, 1)])\n",
      "C:\\Users\\Abhay\\Anaconda3\\lib\\site-packages\\tensorboard\\compat\\tensorflow_stub\\dtypes.py:541: FutureWarning: Passing (type, 1) or '1type' as a synonym of type is deprecated; in a future version of numpy, it will be understood as (type, (1,)) / '(1,)type'.\n",
      "  _np_qint8 = np.dtype([(\"qint8\", np.int8, 1)])\n",
      "C:\\Users\\Abhay\\Anaconda3\\lib\\site-packages\\tensorboard\\compat\\tensorflow_stub\\dtypes.py:542: FutureWarning: Passing (type, 1) or '1type' as a synonym of type is deprecated; in a future version of numpy, it will be understood as (type, (1,)) / '(1,)type'.\n",
      "  _np_quint8 = np.dtype([(\"quint8\", np.uint8, 1)])\n",
      "C:\\Users\\Abhay\\Anaconda3\\lib\\site-packages\\tensorboard\\compat\\tensorflow_stub\\dtypes.py:543: FutureWarning: Passing (type, 1) or '1type' as a synonym of type is deprecated; in a future version of numpy, it will be understood as (type, (1,)) / '(1,)type'.\n",
      "  _np_qint16 = np.dtype([(\"qint16\", np.int16, 1)])\n",
      "C:\\Users\\Abhay\\Anaconda3\\lib\\site-packages\\tensorboard\\compat\\tensorflow_stub\\dtypes.py:544: FutureWarning: Passing (type, 1) or '1type' as a synonym of type is deprecated; in a future version of numpy, it will be understood as (type, (1,)) / '(1,)type'.\n",
      "  _np_quint16 = np.dtype([(\"quint16\", np.uint16, 1)])\n",
      "C:\\Users\\Abhay\\Anaconda3\\lib\\site-packages\\tensorboard\\compat\\tensorflow_stub\\dtypes.py:545: FutureWarning: Passing (type, 1) or '1type' as a synonym of type is deprecated; in a future version of numpy, it will be understood as (type, (1,)) / '(1,)type'.\n",
      "  _np_qint32 = np.dtype([(\"qint32\", np.int32, 1)])\n",
      "C:\\Users\\Abhay\\Anaconda3\\lib\\site-packages\\tensorboard\\compat\\tensorflow_stub\\dtypes.py:550: FutureWarning: Passing (type, 1) or '1type' as a synonym of type is deprecated; in a future version of numpy, it will be understood as (type, (1,)) / '(1,)type'.\n",
      "  np_resource = np.dtype([(\"resource\", np.ubyte, 1)])\n"
     ]
    }
   ],
   "source": [
    "from keras.preprocessing.text import text_to_word_sequence"
   ]
  },
  {
   "cell_type": "code",
   "execution_count": 2,
   "metadata": {},
   "outputs": [],
   "source": [
    "text4=\"\"\"William Shakespeare (bapt. 26 April 1564 – 23 April 1616)[a] was an English poet, playwright, and actor, widely regarded as the greatest writer in the English language and the world's greatest dramatist.[2][3][4] He is often called England's national poet and the \"Bard of Avon\" (or simply \"the Bard\").[5][b] His extant works, including collaborations, consist of some 39 plays,[c] 154 sonnets, two long narrative poems, and a few other verses, some of uncertain authorship. His plays have been translated into every major living language and are performed more often than those of any other playwright.[7]\"\"\""
   ]
  },
  {
   "cell_type": "code",
   "execution_count": 3,
   "metadata": {},
   "outputs": [],
   "source": [
    "tokens=text_to_word_sequence(text4)"
   ]
  },
  {
   "cell_type": "code",
   "execution_count": 4,
   "metadata": {
    "scrolled": true
   },
   "outputs": [
    {
     "data": {
      "text/plain": [
       "['william',\n",
       " 'shakespeare',\n",
       " 'bapt',\n",
       " '26',\n",
       " 'april',\n",
       " '1564',\n",
       " '–',\n",
       " '23',\n",
       " 'april',\n",
       " '1616',\n",
       " 'a',\n",
       " 'was',\n",
       " 'an',\n",
       " 'english',\n",
       " 'poet',\n",
       " 'playwright',\n",
       " 'and',\n",
       " 'actor',\n",
       " 'widely',\n",
       " 'regarded',\n",
       " 'as',\n",
       " 'the',\n",
       " 'greatest',\n",
       " 'writer',\n",
       " 'in',\n",
       " 'the',\n",
       " 'english',\n",
       " 'language',\n",
       " 'and',\n",
       " 'the',\n",
       " \"world's\",\n",
       " 'greatest',\n",
       " 'dramatist',\n",
       " '2',\n",
       " '3',\n",
       " '4',\n",
       " 'he',\n",
       " 'is',\n",
       " 'often',\n",
       " 'called',\n",
       " \"england's\",\n",
       " 'national',\n",
       " 'poet',\n",
       " 'and',\n",
       " 'the',\n",
       " 'bard',\n",
       " 'of',\n",
       " 'avon',\n",
       " 'or',\n",
       " 'simply',\n",
       " 'the',\n",
       " 'bard',\n",
       " '5',\n",
       " 'b',\n",
       " 'his',\n",
       " 'extant',\n",
       " 'works',\n",
       " 'including',\n",
       " 'collaborations',\n",
       " 'consist',\n",
       " 'of',\n",
       " 'some',\n",
       " '39',\n",
       " 'plays',\n",
       " 'c',\n",
       " '154',\n",
       " 'sonnets',\n",
       " 'two',\n",
       " 'long',\n",
       " 'narrative',\n",
       " 'poems',\n",
       " 'and',\n",
       " 'a',\n",
       " 'few',\n",
       " 'other',\n",
       " 'verses',\n",
       " 'some',\n",
       " 'of',\n",
       " 'uncertain',\n",
       " 'authorship',\n",
       " 'his',\n",
       " 'plays',\n",
       " 'have',\n",
       " 'been',\n",
       " 'translated',\n",
       " 'into',\n",
       " 'every',\n",
       " 'major',\n",
       " 'living',\n",
       " 'language',\n",
       " 'and',\n",
       " 'are',\n",
       " 'performed',\n",
       " 'more',\n",
       " 'often',\n",
       " 'than',\n",
       " 'those',\n",
       " 'of',\n",
       " 'any',\n",
       " 'other',\n",
       " 'playwright',\n",
       " '7']"
      ]
     },
     "execution_count": 4,
     "metadata": {},
     "output_type": "execute_result"
    }
   ],
   "source": [
    "tokens"
   ]
  },
  {
   "cell_type": "code",
   "execution_count": null,
   "metadata": {},
   "outputs": [],
   "source": []
  }
 ],
 "metadata": {
  "kernelspec": {
   "display_name": "Python 3",
   "language": "python",
   "name": "python3"
  },
  "language_info": {
   "codemirror_mode": {
    "name": "ipython",
    "version": 3
   },
   "file_extension": ".py",
   "mimetype": "text/x-python",
   "name": "python",
   "nbconvert_exporter": "python",
   "pygments_lexer": "ipython3",
   "version": "3.7.0"
  }
 },
 "nbformat": 4,
 "nbformat_minor": 2
}
